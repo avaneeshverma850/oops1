{
 "cells": [
  {
   "cell_type": "code",
   "execution_count": null,
   "id": "c6499e52-858d-4157-8669-e98377e92105",
   "metadata": {},
   "outputs": [],
   "source": [
    "\"\"\"       class\n",
    "1-class is a blue print of an object\n",
    "2-class is encapsulated data and function\n",
    "3-class is a keyword\n",
    "4-class is named\n",
    "4-class is description of an object\n",
    "5-int,float,complex,range,tuple,set ,are example of class\n",
    "         \n",
    "         object\n",
    "1-object is instance of a class \n",
    "2-object is real world entity\n",
    "3-you can create any number of object of a class\n",
    "\n",
    "         example\n",
    "class int:\n",
    "    x=5 #oject of int class\n",
    "    x=3 #oject of int class\n",
    "    x=5 #oject of int class\"\"\""
   ]
  },
  {
   "cell_type": "code",
   "execution_count": null,
   "id": "fdb4b69c-076d-4188-9d60-815157fcad49",
   "metadata": {},
   "outputs": [],
   "source": [
    "\"\"\" four pillar of oops is\n",
    "1-inheritance\n",
    "2-polymorphism\n",
    "3-Encapsulation\n",
    "4-abstraction \"\"\""
   ]
  },
  {
   "cell_type": "code",
   "execution_count": null,
   "id": "1d5d2f11-62ee-449b-8817-e716c7236f14",
   "metadata": {},
   "outputs": [],
   "source": [
    "\"\"\"    ___init__() function\n",
    "1-you can define __init__() method in the class (that is optional).\n",
    "2-it is similar concept of constructor in c++ or jave.\n",
    "3-there for __init__() method is the first method for an object just after the object creation.\n",
    "     \n",
    "               example       \"\"\"\n",
    "class test:\n",
    "    def __init__():\n",
    "        print(\"hello\")\n",
    "t1=test() #when object is created than it will be call automatically\n"
   ]
  },
  {
   "cell_type": "code",
   "execution_count": null,
   "id": "c410b98c-756e-4883-9975-8a72693a1928",
   "metadata": {},
   "outputs": [],
   "source": [
    "\"\"\" self variable is used to represent the instance of the class.\n",
    "it works as a refernece to the object\"\"\n"
   ]
  },
  {
   "cell_type": "code",
   "execution_count": null,
   "id": "39f39102-e5f9-4152-9d76-df8c118af43b",
   "metadata": {},
   "outputs": [],
   "source": [
    "\"\"\"     inheritance\n",
    "1-defining a new class by extending the feature of an existing class is called inheritance.\n",
    "2-inheritance is another key concept of oop.\n",
    "     type of inheritance\n",
    "1-single inheritance\n",
    "class a:\n",
    "   #variable \n",
    "   #function\n",
    "class b(a):\n",
    "  #variable \n",
    "  #function\n",
    "\n",
    "2-multilevel inheritance\n",
    "\n",
    "class a:\n",
    "  #variable\n",
    "  #function\n",
    "class b(a):\n",
    "   #variable \n",
    "   #function\n",
    "class c(b):\n",
    "   #variable \n",
    "   #function\n",
    "\n",
    "3-multiple inheritance\n",
    "\n",
    "class a:\n",
    "    #variable\n",
    "    #function\n",
    "class b:\n",
    "  #variable\n",
    "  #function\n",
    "class c(a,b):\n",
    "\n",
    "\n",
    "4-hierarchical inheritance\n",
    "\n",
    "class a:\n",
    "  #variable\n",
    "  #function\n",
    "class b1(a):\n",
    "  #variable\n",
    "  #function\n",
    "class b2(a):\n",
    "  #variable\n",
    "  #function\n",
    "\n",
    "\n",
    "5-hybrid inheritance\n",
    "class a:\n",
    "  #variable\n",
    "    #function\n",
    "class b1(a):\n",
    "  #variable\n",
    "    #function\n",
    "class b2\n",
    "\n",
    "\n",
    " \n",
    " \n",
    " "
   ]
  },
  {
   "cell_type": "code",
   "execution_count": null,
   "id": "84852a8c-e158-46db-98f7-9d34f9923f3c",
   "metadata": {},
   "outputs": [],
   "source": []
  }
 ],
 "metadata": {
  "kernelspec": {
   "display_name": "Python 3 (ipykernel)",
   "language": "python",
   "name": "python3"
  },
  "language_info": {
   "codemirror_mode": {
    "name": "ipython",
    "version": 3
   },
   "file_extension": ".py",
   "mimetype": "text/x-python",
   "name": "python",
   "nbconvert_exporter": "python",
   "pygments_lexer": "ipython3",
   "version": "3.10.8"
  }
 },
 "nbformat": 4,
 "nbformat_minor": 5
}
